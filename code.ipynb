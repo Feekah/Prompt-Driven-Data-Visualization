{
 "cells": [
  {
   "cell_type": "code",
   "execution_count": 11,
   "metadata": {},
   "outputs": [],
   "source": [
    "import streamlit as st\n",
    "import pandas as pd\n",
    "from openai import OpenAI\n",
    "import os\n",
    "import json\n",
    "import time\n",
    "from datetime import datetime\n",
    "from dotenv import load_dotenv\n",
    "from PIL import Image"
   ]
  },
  {
   "cell_type": "code",
   "execution_count": 20,
   "metadata": {},
   "outputs": [],
   "source": [
    "load_dotenv('.env')\n",
    "api_key=os.environ.get('OPENAI_KEY')"
   ]
  },
  {
   "cell_type": "code",
   "execution_count": 26,
   "metadata": {},
   "outputs": [],
   "source": [
    "client = OpenAI(api_key=os.environ.get(\"OPENAI_KEY\"))"
   ]
  },
  {
   "cell_type": "code",
   "execution_count": 24,
   "metadata": {},
   "outputs": [
    {
     "name": "stderr",
     "output_type": "stream",
     "text": [
      "2025-01-09 23:10:16.560 WARNING streamlit.runtime.scriptrunner_utils.script_run_context: Thread 'MainThread': missing ScriptRunContext! This warning can be ignored when running in bare mode.\n",
      "2025-01-09 23:10:16.721 \n",
      "  \u001b[33m\u001b[1mWarning:\u001b[0m to view this Streamlit app on a browser, run it with the following\n",
      "  command:\n",
      "\n",
      "    streamlit run /Users/feekah/Library/Python/3.12/lib/python/site-packages/ipykernel_launcher.py [ARGUMENTS]\n",
      "2025-01-09 23:10:16.721 Thread 'MainThread': missing ScriptRunContext! This warning can be ignored when running in bare mode.\n",
      "2025-01-09 23:10:16.722 Thread 'MainThread': missing ScriptRunContext! This warning can be ignored when running in bare mode.\n",
      "2025-01-09 23:10:16.722 Thread 'MainThread': missing ScriptRunContext! This warning can be ignored when running in bare mode.\n",
      "2025-01-09 23:10:16.722 Thread 'MainThread': missing ScriptRunContext! This warning can be ignored when running in bare mode.\n",
      "2025-01-09 23:10:16.722 Thread 'MainThread': missing ScriptRunContext! This warning can be ignored when running in bare mode.\n"
     ]
    }
   ],
   "source": [
    "# Streamlit App UI\n",
    "st.title(\"AI-Powered Data Visualization App\")\n",
    "st.write(\"Upload a CSV or Excel file, enter your query, and let AI create the visualization for you.\")"
   ]
  },
  {
   "cell_type": "code",
   "execution_count": 25,
   "metadata": {},
   "outputs": [
    {
     "name": "stderr",
     "output_type": "stream",
     "text": [
      "2025-01-09 23:10:39.396 Thread 'MainThread': missing ScriptRunContext! This warning can be ignored when running in bare mode.\n",
      "2025-01-09 23:10:39.398 Thread 'MainThread': missing ScriptRunContext! This warning can be ignored when running in bare mode.\n",
      "2025-01-09 23:10:39.400 Thread 'MainThread': missing ScriptRunContext! This warning can be ignored when running in bare mode.\n",
      "2025-01-09 23:10:39.402 Thread 'MainThread': missing ScriptRunContext! This warning can be ignored when running in bare mode.\n",
      "2025-01-09 23:10:39.403 Thread 'MainThread': missing ScriptRunContext! This warning can be ignored when running in bare mode.\n",
      "2025-01-09 23:10:39.404 Thread 'MainThread': missing ScriptRunContext! This warning can be ignored when running in bare mode.\n",
      "2025-01-09 23:10:39.405 Thread 'MainThread': missing ScriptRunContext! This warning can be ignored when running in bare mode.\n",
      "2025-01-09 23:10:39.405 Session state does not function when running a script without `streamlit run`\n",
      "2025-01-09 23:10:39.406 Thread 'MainThread': missing ScriptRunContext! This warning can be ignored when running in bare mode.\n",
      "2025-01-09 23:10:39.406 Thread 'MainThread': missing ScriptRunContext! This warning can be ignored when running in bare mode.\n"
     ]
    }
   ],
   "source": [
    "# File upload\n",
    "uploaded_file = st.file_uploader(\"Choose a CSV or Excel file\", type=[\"csv\", \"xlsx\"])\n",
    "\n",
    "# User query input\n",
    "user_query = st.text_input(\"Enter your query for visualization (e.g., 'Visualize revenue by year')\")"
   ]
  },
  {
   "cell_type": "code",
   "execution_count": 27,
   "metadata": {},
   "outputs": [],
   "source": [
    "# Process the uploaded file\n",
    "if uploaded_file:\n",
    "    # Load data into a DataFrame\n",
    "    if uploaded_file.name.endswith('.csv'):\n",
    "        df = pd.read_csv(uploaded_file)\n",
    "    else:\n",
    "        df = pd.read_excel(uploaded_file)\n",
    "    \n",
    "    st.write(\"### Uploaded Data Preview:\")\n",
    "    st.dataframe(df.head())\n",
    "\n",
    "    unique_json_path = f\"fin_data_{datetime.now().strftime('%Y%m%d%H%M%S')}.json\"\n",
    "    json_data = df.to_json(orient=\"columns\")\n",
    "\n",
    "    with open(unique_json_path, \"w\") as json_file:\n",
    "        json.dump(json_data, json_file)\n",
    "\n",
    "    # Upload file to OpenAI\n",
    "    file = client.files.create(\n",
    "        file=open(unique_json_path, \"rb\"),\n",
    "        purpose='assistants'\n",
    "    )\n",
    "\n",
    "    # Define assistant instructions\n",
    "    assistant = client.beta.assistants.create(\n",
    "        instructions=f\"You are a data scientist assistant. When given data and a query, write the proper code and create the proper visualization based on the query.\",\n",
    "        model=\"gpt-4o\",\n",
    "        tools=[{\"type\": \"code_interpreter\"}],\n",
    "        tool_resources={\"code_interpreter\": {\"file_ids\": [file.id]}}\n",
    "    )\n",
    "\n",
    "    # Create a thread and send the user query\n",
    "    thread = client.beta.threads.create(\n",
    "        messages=[\n",
    "            {\n",
    "                \"role\": \"user\",\n",
    "                \"content\": user_query\n",
    "                    }\n",
    "        ]\n",
    "    )\n",
    "    # Run the assistant\n",
    "    run = client.beta.threads.runs.create(\n",
    "        thread_id=thread.id,\n",
    "        assistant_id=assistant.id,\n",
    "    )\n",
    "\n",
    "    st.write(\"Generating plot...\")\n",
    "\n",
    "    # Check for completion and retrieve the plot\n",
    "    while True:\n",
    "        messages = client.beta.threads.messages.list(thread_id=thread.id)\n",
    "        try:\n",
    "            # Check if image file is in response\n",
    "            plot_file_id = messages.data[0].content[0].image_file.file_id\n",
    "            time.sleep(5)  # Wait a bit to ensure run is completed\n",
    "            break\n",
    "        except:\n",
    "            time.sleep(5)\n",
    "            st.write(\"Assistant is still processing...\")\n",
    "\n",
    "    # Retrieve and display the plot\n",
    "    def convert_file_to_png(file_id, write_path):\n",
    "        data = client.files.content(file_id)\n",
    "        data_bytes = data.read()\n",
    "        with open(write_path, \"wb\") as file:\n",
    "            file.write(data_bytes)\n",
    "\n",
    "    # Convert plot to PNG and display\n",
    "    image_path = \"generated_plot.png\"\n",
    "    convert_file_to_png(plot_file_id, image_path)\n",
    "    \n",
    "    st.write(\"### Generated Plot:\")\n",
    "    st.image(image_path)\n",
    "\n",
    "    # Clean up temporary files\n",
    "    os.remove(unique_json_path)\n",
    "    os.remove(image_path)\n"
   ]
  }
 ],
 "metadata": {
  "kernelspec": {
   "display_name": "Python 3",
   "language": "python",
   "name": "python3"
  },
  "language_info": {
   "codemirror_mode": {
    "name": "ipython",
    "version": 3
   },
   "file_extension": ".py",
   "mimetype": "text/x-python",
   "name": "python",
   "nbconvert_exporter": "python",
   "pygments_lexer": "ipython3",
   "version": "3.12.5"
  }
 },
 "nbformat": 4,
 "nbformat_minor": 2
}
